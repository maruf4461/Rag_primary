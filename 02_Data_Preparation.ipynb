{
  "nbformat": 4,
  "nbformat_minor": 0,
  "metadata": {
    "colab": {
      "provenance": [],
      "authorship_tag": "ABX9TyMp+VAcTM3WDsTw68JlD8mY",
      "include_colab_link": true
    },
    "kernelspec": {
      "name": "python3",
      "display_name": "Python 3"
    },
    "language_info": {
      "name": "python"
    }
  },
  "cells": [
    {
      "cell_type": "markdown",
      "metadata": {
        "id": "view-in-github",
        "colab_type": "text"
      },
      "source": [
        "<a href=\"https://colab.research.google.com/github/maruf4461/Rag_primary/blob/main/02_Data_Preparation.ipynb\" target=\"_parent\"><img src=\"https://colab.research.google.com/assets/colab-badge.svg\" alt=\"Open In Colab\"/></a>"
      ]
    },
    {
      "cell_type": "markdown",
      "source": [
        "02_Data_Preparation.ipynb"
      ],
      "metadata": {
        "id": "jCaHPO2Cq5lQ"
      }
    },
    {
      "cell_type": "markdown",
      "source": [
        "# CELL 1: Setup and Imports"
      ],
      "metadata": {
        "id": "xPRfojhDq0Tl"
      }
    },
    {
      "cell_type": "code",
      "execution_count": null,
      "metadata": {
        "colab": {
          "base_uri": "https://localhost:8080/"
        },
        "id": "NuEk9aRRqwQ7",
        "outputId": "1ad10b66-1ebb-4a3e-d6db-3c0639377f10"
      },
      "outputs": [
        {
          "output_type": "stream",
          "name": "stdout",
          "text": [
            "Mounted at /content/drive\n",
            "🖥️  Runtime Info:\n",
            "   GPU Memory: 0.0/0.0 GB\n",
            "   RAM: 1.2/13.6 GB\n",
            "💾 Available disk space: 70.19 GB\n",
            "   Disk: 70.2 GB free\n"
          ]
        },
        {
          "output_type": "execute_result",
          "data": {
            "text/plain": [
              "{'gpu_total': 0,\n",
              " 'gpu_used': 0,\n",
              " 'ram_total': 13.608370176,\n",
              " 'ram_used': 1.17116928}"
            ]
          },
          "metadata": {},
          "execution_count": 1
        }
      ],
      "source": [
        "from google.colab import drive\n",
        "import sys\n",
        "import os\n",
        "\n",
        "# Mount drive and setup paths\n",
        "drive.mount('/content/drive')\n",
        "sys.path.append('/content/drive/MyDrive/RAG_Research/src')\n",
        "\n",
        "from colab_utils import ColabUtils\n",
        "utils = ColabUtils()\n",
        "\n",
        "# Check runtime\n",
        "utils.get_runtime_info()"
      ]
    },
    {
      "cell_type": "markdown",
      "source": [
        "# CELL 2: Download Datasets"
      ],
      "metadata": {
        "id": "QFUQUaFnrM3C"
      }
    },
    {
      "cell_type": "code",
      "source": [
        "from datasets import load_dataset\n",
        "import pandas as pd\n",
        "from tqdm import tqdm\n",
        "\n",
        "def download_and_prepare_datasets():\n",
        "    \"\"\"Download and prepare datasets for RAG evaluation\"\"\"\n",
        "\n",
        "    print(\"📥 Downloading datasets...\")\n",
        "\n",
        "    # 1. Natural Questions (smaller subset for Colab)\n",
        "    print(\"1. Natural Questions...\")\n",
        "    try:\n",
        "        nq_dataset = load_dataset(\"natural_questions\", split=\"train[:1000]\")  # Small subset\n",
        "\n",
        "        # Convert to simple format\n",
        "        nq_data = []\n",
        "        for item in tqdm(nq_dataset):\n",
        "            if item['annotations']['yes_no_answer'][0] != -1:  # Has answer\n",
        "                nq_data.append({\n",
        "                    'question': item['question']['text'],\n",
        "                    'context': item['document']['html'],  # We'll clean this\n",
        "                    'answer': item['annotations']['short_answers'][0]['text'] if item['annotations']['short_answers'] else \"\"\n",
        "                })\n",
        "\n",
        "        nq_df = pd.DataFrame(nq_data[:500])  # Limit for Colab\n",
        "        utils.save_to_drive(nq_df, \"data/raw/natural_questions.csv\")\n",
        "        print(f\"   ✅ Natural Questions: {len(nq_df)} samples\")\n",
        "\n",
        "    except Exception as e:\n",
        "        print(f\"   ❌ Error with Natural Questions: {e}\")\n",
        "\n",
        "    # 2. SQuAD 2.0 (more manageable)\n",
        "    print(\"2. SQuAD 2.0...\")\n",
        "    try:\n",
        "        squad_dataset = load_dataset(\"squad_v2\", split=\"train[:1000]\")\n",
        "\n",
        "        squad_data = []\n",
        "        for item in tqdm(squad_dataset):\n",
        "            squad_data.append({\n",
        "                'question': item['question'],\n",
        "                'context': item['context'],\n",
        "                'answer': item['answers']['text'][0] if item['answers']['text'] else \"\"\n",
        "            })\n",
        "\n",
        "        squad_df = pd.DataFrame(squad_data)\n",
        "        utils.save_to_drive(squad_df, \"data/raw/squad_v2.csv\")\n",
        "        print(f\"   ✅ SQuAD 2.0: {len(squad_df)} samples\")\n",
        "\n",
        "    except Exception as e:\n",
        "        print(f\"   ❌ Error with SQuAD: {e}\")\n",
        "\n",
        "    # 3. Create a simple test dataset\n",
        "    print(\"3. Creating test dataset...\")\n",
        "    test_data = [\n",
        "        {\n",
        "            'question': 'What is the capital of France?',\n",
        "            'context': 'France is a country in Europe. Paris is the capital and largest city of France.',\n",
        "            'answer': 'Paris'\n",
        "        },\n",
        "        {\n",
        "            'question': 'Who wrote Romeo and Juliet?',\n",
        "            'context': 'William Shakespeare was an English playwright and poet. He wrote many famous plays including Romeo and Juliet.',\n",
        "            'answer': 'William Shakespeare'\n",
        "        }\n",
        "    ]\n",
        "\n",
        "    test_df = pd.DataFrame(test_data)\n",
        "    utils.save_to_drive(test_df, \"data/raw/test_dataset.csv\")\n",
        "    print(f\"   ✅ Test dataset: {len(test_df)} samples\")\n",
        "\n",
        "# Run the download\n",
        "download_and_prepare_datasets()\n"
      ],
      "metadata": {
        "colab": {
          "base_uri": "https://localhost:8080/"
        },
        "id": "_YwTxQf3rNJx",
        "outputId": "b65a6f45-d830-4af7-ee40-56080a679474"
      },
      "execution_count": null,
      "outputs": [
        {
          "output_type": "stream",
          "name": "stdout",
          "text": [
            "📥 Downloading datasets...\n",
            "1. Natural Questions...\n",
            "   ❌ Error with Natural Questions: Invalid pattern: '**' can only be an entire path component\n",
            "2. SQuAD 2.0...\n",
            "   ❌ Error with SQuAD: Invalid pattern: '**' can only be an entire path component\n",
            "3. Creating test dataset...\n",
            "✅ Saved to: /content/drive/MyDrive/RAG_Research/data/raw/test_dataset.csv\n",
            "   ✅ Test dataset: 2 samples\n"
          ]
        }
      ]
    },
    {
      "cell_type": "code",
      "source": [
        "import pandas as pd\n",
        "import requests\n",
        "import json\n",
        "from tqdm import tqdm\n",
        "import os\n",
        "\n",
        "def download_and_prepare_datasets():\n",
        "    \"\"\"Download and prepare datasets for RAG evaluation - Manual download approach\"\"\"\n",
        "\n",
        "    print(\"📥 Downloading datasets...\")\n",
        "\n",
        "    # Method 1: Download SQuAD manually via Hugging Face API\n",
        "    print(\"1. SQuAD dataset (manual download)...\")\n",
        "    try:\n",
        "        # Download SQuAD 1.1 directly from the source\n",
        "        url = \"https://rajpurkar.github.io/SQuAD-explorer/dataset/train-v1.1.json\"\n",
        "\n",
        "        print(\"   Downloading SQuAD train data...\")\n",
        "        response = requests.get(url)\n",
        "        squad_json = response.json()\n",
        "\n",
        "        squad_data = []\n",
        "        count = 0\n",
        "\n",
        "        for article in tqdm(squad_json['data']):\n",
        "            if count >= 1000:  # Limit for Colab\n",
        "                break\n",
        "            for paragraph in article['paragraphs']:\n",
        "                context = paragraph['context']\n",
        "                for qa in paragraph['qas']:\n",
        "                    if count >= 1000:\n",
        "                        break\n",
        "                    answer = qa['answers'][0]['text'] if qa['answers'] else \"\"\n",
        "                    squad_data.append({\n",
        "                        'question': qa['question'],\n",
        "                        'context': context,\n",
        "                        'answer': answer\n",
        "                    })\n",
        "                    count += 1\n",
        "\n",
        "        squad_df = pd.DataFrame(squad_data)\n",
        "        utils.save_to_drive(squad_df, \"data/raw/squad.csv\")\n",
        "        print(f\"   ✅ SQuAD: {len(squad_df)} samples\")\n",
        "\n",
        "    except Exception as e:\n",
        "        print(f\"   ❌ Error downloading SQuAD: {e}\")\n",
        "\n",
        "    # Method 2: Create a larger synthetic dataset based on common knowledge\n",
        "    print(\"2. Creating expanded knowledge dataset...\")\n",
        "\n",
        "    knowledge_data = [\n",
        "        {\n",
        "            'question': 'What is the capital of France?',\n",
        "            'context': 'France is a country in Europe. Paris is the capital and largest city of France. It is located in the north-central part of the country and serves as the political, economic, and cultural center. Paris has a population of over 2 million people.',\n",
        "            'answer': 'Paris'\n",
        "        },\n",
        "        {\n",
        "            'question': 'Who wrote Romeo and Juliet?',\n",
        "            'context': 'William Shakespeare was an English playwright and poet who lived from 1564 to 1616. He wrote many famous plays including Romeo and Juliet, Hamlet, Macbeth, and Othello during the Elizabethan era. Romeo and Juliet is a tragedy about young star-crossed lovers.',\n",
        "            'answer': 'William Shakespeare'\n",
        "        },\n",
        "        {\n",
        "            'question': 'What is machine learning?',\n",
        "            'context': 'Machine learning is a subset of artificial intelligence that enables computers to learn and improve from experience without being explicitly programmed. It uses algorithms to analyze data, identify patterns, and make predictions or decisions.',\n",
        "            'answer': 'A subset of artificial intelligence that enables computers to learn from data'\n",
        "        },\n",
        "        {\n",
        "            'question': 'What is the largest planet in our solar system?',\n",
        "            'context': 'Jupiter is the largest planet in our solar system. It is a gas giant with a mass more than twice that of all other planets combined. Jupiter has a distinctive Great Red Spot, which is a giant storm, and has over 80 known moons.',\n",
        "            'answer': 'Jupiter'\n",
        "        },\n",
        "        {\n",
        "            'question': 'Who painted the Mona Lisa?',\n",
        "            'context': 'Leonardo da Vinci was an Italian Renaissance artist, inventor, and scientist who lived from 1452 to 1519. He painted the famous Mona Lisa portrait between 1503 and 1519. The painting is now housed in the Louvre Museum in Paris and is considered one of the most famous artworks in the world.',\n",
        "            'answer': 'Leonardo da Vinci'\n",
        "        },\n",
        "        {\n",
        "            'question': 'What is photosynthesis?',\n",
        "            'context': 'Photosynthesis is the process by which plants and other organisms convert light energy, usually from the sun, into chemical energy. This process occurs in chloroplasts and produces glucose and oxygen from carbon dioxide and water using chlorophyll.',\n",
        "            'answer': 'The process by which plants convert light energy into chemical energy'\n",
        "        },\n",
        "        {\n",
        "            'question': 'When did World War II end?',\n",
        "            'context': 'World War II was a global conflict that lasted from 1939 to 1945. The war in Europe ended on May 8, 1945, when Germany surrendered to the Allied forces. The war in the Pacific ended on September 2, 1945, after Japan surrendered following the atomic bombings of Hiroshima and Nagasaki.',\n",
        "            'answer': '1945'\n",
        "        },\n",
        "        {\n",
        "            'question': 'What is DNA?',\n",
        "            'context': 'DNA (Deoxyribonucleic acid) is a molecule that carries genetic information in living organisms. It consists of two strands forming a double helix structure and contains instructions for the development, functioning, and reproduction of all known life forms.',\n",
        "            'answer': 'A molecule that carries genetic information'\n",
        "        },\n",
        "        {\n",
        "            'question': 'What is the speed of light?',\n",
        "            'context': 'The speed of light in a vacuum is approximately 299,792,458 meters per second, often rounded to 300,000 kilometers per second. This is a fundamental physical constant denoted by the letter c. Nothing with mass can travel faster than the speed of light.',\n",
        "            'answer': '299,792,458 meters per second'\n",
        "        },\n",
        "        {\n",
        "            'question': 'Who invented the telephone?',\n",
        "            'context': 'Alexander Graham Bell is credited with inventing the telephone in 1876. Bell was a Scottish-American inventor and scientist who was working on improving the telegraph when he developed the first practical telephone. He received the first US patent for the telephone on March 7, 1876.',\n",
        "            'answer': 'Alexander Graham Bell'\n",
        "        },\n",
        "        {\n",
        "            'question': 'What is the chemical formula for water?',\n",
        "            'context': 'Water is a chemical compound consisting of two hydrogen atoms and one oxygen atom. Its chemical formula is H2O. Water is essential for all known forms of life and covers about 71% of Earth\\'s surface.',\n",
        "            'answer': 'H2O'\n",
        "        },\n",
        "        {\n",
        "            'question': 'What is gravity?',\n",
        "            'context': 'Gravity is a fundamental force of nature that attracts objects with mass toward each other. On Earth, gravity gives weight to physical objects and causes them to fall toward the ground when dropped. The strength of gravity depends on the mass of the objects and the distance between them.',\n",
        "            'answer': 'A fundamental force that attracts objects with mass toward each other'\n",
        "        },\n",
        "        {\n",
        "            'question': 'Who was the first person to walk on the moon?',\n",
        "            'context': 'Neil Armstrong was the first person to walk on the moon. He stepped onto the lunar surface on July 20, 1969, during the Apollo 11 mission. His famous words upon stepping onto the moon were \"That\\'s one small step for man, one giant leap for mankind.\"',\n",
        "            'answer': 'Neil Armstrong'\n",
        "        },\n",
        "        {\n",
        "            'question': 'What is the boiling point of water?',\n",
        "            'context': 'The boiling point of water is 100 degrees Celsius (212 degrees Fahrenheit) at standard atmospheric pressure (1 atmosphere or 101.325 kPa). At this temperature, water changes from liquid to gas (steam). The boiling point can vary with altitude and pressure.',\n",
        "            'answer': '100 degrees Celsius'\n",
        "        },\n",
        "        {\n",
        "            'question': 'What is the smallest unit of matter?',\n",
        "            'context': 'An atom is the smallest unit of ordinary matter that forms a chemical element. Atoms consist of a nucleus containing protons and neutrons, surrounded by electrons. Every solid, liquid, gas, and plasma is composed of neutral or ionized atoms.',\n",
        "            'answer': 'Atom'\n",
        "        },\n",
        "        {\n",
        "            'question': 'Who wrote \"To Kill a Mockingbird\"?',\n",
        "            'context': 'Harper Lee wrote the novel \"To Kill a Mockingbird,\" which was published in 1960. The book won the Pulitzer Prize for Fiction in 1961 and became a classic of modern American literature. It deals with issues of racial injustice and moral growth.',\n",
        "            'answer': 'Harper Lee'\n",
        "        },\n",
        "        {\n",
        "            'question': 'What is the largest ocean on Earth?',\n",
        "            'context': 'The Pacific Ocean is the largest ocean on Earth, covering about one-third of the planet\\'s surface. It extends from the Arctic to the Southern Ocean and is bounded by Asia and Australia on the west and the Americas on the east.',\n",
        "            'answer': 'Pacific Ocean'\n",
        "        },\n",
        "        {\n",
        "            'question': 'What is artificial intelligence?',\n",
        "            'context': 'Artificial Intelligence (AI) is the simulation of human intelligence in machines that are programmed to think and learn like humans. AI systems can perform tasks that typically require human intelligence, such as visual perception, speech recognition, decision-making, and language translation.',\n",
        "            'answer': 'The simulation of human intelligence in machines'\n",
        "        },\n",
        "        {\n",
        "            'question': 'What is the periodic table?',\n",
        "            'context': 'The periodic table is a tabular arrangement of chemical elements, ordered by their atomic number (number of protons). Elements with similar properties are grouped together in columns called groups or families. It was first developed by Dmitri Mendeleev in 1869.',\n",
        "            'answer': 'A tabular arrangement of chemical elements ordered by atomic number'\n",
        "        },\n",
        "        {\n",
        "            'question': 'What causes seasons on Earth?',\n",
        "            'context': 'Seasons on Earth are caused by the tilt of Earth\\'s axis as it orbits the sun. The Earth\\'s axis is tilted at about 23.5 degrees. When a hemisphere is tilted toward the sun, it experiences summer, and when tilted away, it experiences winter.',\n",
        "            'answer': 'The tilt of Earth\\'s axis as it orbits the sun'\n",
        "        }\n",
        "    ]\n",
        "\n",
        "    knowledge_df = pd.DataFrame(knowledge_data)\n",
        "    utils.save_to_drive(knowledge_df, \"data/raw/knowledge_dataset.csv\")\n",
        "    print(f\"   ✅ Knowledge dataset: {len(knowledge_df)} samples\")\n",
        "\n",
        "    # Method 3: Try alternative API approach for more data\n",
        "    print(\"3. Attempting to get more QA data...\")\n",
        "    try:\n",
        "        # You can add more datasets here by downloading from other sources\n",
        "        # For now, we'll create more synthetic data\n",
        "\n",
        "        additional_data = []\n",
        "\n",
        "        # Science questions\n",
        "        science_qa = [\n",
        "            (\"What is photosynthesis?\", \"Photosynthesis is the process used by plants to convert sunlight into energy.\", \"The process used by plants to convert sunlight into energy\"),\n",
        "            (\"What is an ecosystem?\", \"An ecosystem is a community of living organisms interacting with their physical environment.\", \"A community of living organisms interacting with their environment\"),\n",
        "            (\"What is evolution?\", \"Evolution is the process by which species change over time through natural selection.\", \"The process by which species change over time\"),\n",
        "        ]\n",
        "\n",
        "        # History questions\n",
        "        history_qa = [\n",
        "            (\"When did the American Civil War end?\", \"The American Civil War ended in 1865 when the Confederate forces surrendered.\", \"1865\"),\n",
        "            (\"Who was the first President of the United States?\", \"George Washington was the first President of the United States, serving from 1789 to 1797.\", \"George Washington\"),\n",
        "            (\"When did World War I begin?\", \"World War I began in 1914 and lasted until 1918.\", \"1914\"),\n",
        "        ]\n",
        "\n",
        "        # Geography questions\n",
        "        geography_qa = [\n",
        "            (\"What is the longest river in the world?\", \"The Nile River is generally considered the longest river in the world, flowing through northeastern Africa.\", \"The Nile River\"),\n",
        "            (\"What is the highest mountain in the world?\", \"Mount Everest is the highest mountain in the world, located in the Himalayas.\", \"Mount Everest\"),\n",
        "            (\"What is the largest country by area?\", \"Russia is the largest country in the world by land area, covering over 17 million square kilometers.\", \"Russia\"),\n",
        "        ]\n",
        "\n",
        "        all_additional = science_qa + history_qa + geography_qa\n",
        "\n",
        "        for question, context, answer in all_additional:\n",
        "            additional_data.append({\n",
        "                'question': question,\n",
        "                'context': context,\n",
        "                'answer': answer\n",
        "            })\n",
        "\n",
        "        if additional_data:\n",
        "            additional_df = pd.DataFrame(additional_data)\n",
        "            utils.save_to_drive(additional_df, \"data/raw/additional_qa.csv\")\n",
        "            print(f\"   ✅ Additional QA dataset: {len(additional_df)} samples\")\n",
        "\n",
        "    except Exception as e:\n",
        "        print(f\"   ❌ Error creating additional data: {e}\")\n",
        "\n",
        "    print(\"\\n🎯 Dataset preparation complete!\")\n",
        "    print(\"Available datasets:\")\n",
        "    print(\"- knowledge_dataset.csv: 20 comprehensive QA pairs\")\n",
        "    print(\"- additional_qa.csv: 9 topic-specific QA pairs\")\n",
        "    print(\"- squad.csv: Downloaded SQuAD data (if successful)\")\n",
        "    print(\"\\nYou now have enough data to proceed with your RAG system!\")\n",
        "\n",
        "# Run the download\n",
        "download_and_prepare_datasets()"
      ],
      "metadata": {
        "colab": {
          "base_uri": "https://localhost:8080/"
        },
        "id": "zd48ALOzwkP0",
        "outputId": "6ed94d5a-250e-4e98-e72b-290e621dbb5d"
      },
      "execution_count": null,
      "outputs": [
        {
          "output_type": "stream",
          "name": "stdout",
          "text": [
            "📥 Downloading datasets...\n",
            "1. SQuAD dataset (manual download)...\n",
            "   Downloading SQuAD train data...\n"
          ]
        },
        {
          "output_type": "stream",
          "name": "stderr",
          "text": [
            "  0%|          | 2/442 [00:00<00:00, 1504.95it/s]"
          ]
        },
        {
          "output_type": "stream",
          "name": "stdout",
          "text": [
            "✅ Saved to: /content/drive/MyDrive/RAG_Research/data/raw/squad.csv\n",
            "   ✅ SQuAD: 1000 samples\n",
            "2. Creating expanded knowledge dataset...\n",
            "✅ Saved to: /content/drive/MyDrive/RAG_Research/data/raw/knowledge_dataset.csv\n",
            "   ✅ Knowledge dataset: 20 samples\n",
            "3. Attempting to get more QA data...\n",
            "✅ Saved to: /content/drive/MyDrive/RAG_Research/data/raw/additional_qa.csv\n",
            "   ✅ Additional QA dataset: 9 samples\n",
            "\n",
            "🎯 Dataset preparation complete!\n",
            "Available datasets:\n",
            "- knowledge_dataset.csv: 20 comprehensive QA pairs\n",
            "- additional_qa.csv: 9 topic-specific QA pairs\n",
            "- squad.csv: Downloaded SQuAD data (if successful)\n",
            "\n",
            "You now have enough data to proceed with your RAG system!\n"
          ]
        },
        {
          "output_type": "stream",
          "name": "stderr",
          "text": [
            "\n"
          ]
        }
      ]
    },
    {
      "cell_type": "markdown",
      "source": [
        "# CELL 3: Text Chunking Functions"
      ],
      "metadata": {
        "id": "n7yREgLCruj-"
      }
    },
    {
      "cell_type": "code",
      "source": [
        "import re\n",
        "from typing import List\n",
        "\n",
        "class TextChunker:\n",
        "    \"\"\"Text chunking optimized for Colab memory constraints\"\"\"\n",
        "\n",
        "    def __init__(self, chunk_size=512, overlap=50):\n",
        "        self.chunk_size = chunk_size\n",
        "        self.overlap = overlap\n",
        "\n",
        "    def clean_text(self, text: str) -> str:\n",
        "        \"\"\"Clean HTML and format text\"\"\"\n",
        "        # Remove HTML tags\n",
        "        text = re.sub(r'<[^>]+>', ' ', text)\n",
        "        # Remove extra whitespace\n",
        "        text = re.sub(r'\\s+', ' ', text)\n",
        "        # Remove special characters (keep basic punctuation)\n",
        "        text = re.sub(r'[^\\w\\s.,!?;:]', ' ', text)\n",
        "        return text.strip()\n",
        "\n",
        "    def chunk_text(self, text: str) -> List[str]:\n",
        "        \"\"\"Split text into overlapping chunks\"\"\"\n",
        "        words = text.split()\n",
        "        chunks = []\n",
        "\n",
        "        for i in range(0, len(words), self.chunk_size - self.overlap):\n",
        "            chunk_words = words[i:i + self.chunk_size]\n",
        "            chunk = ' '.join(chunk_words)\n",
        "            if len(chunk.strip()) > 50:  # Minimum chunk size\n",
        "                chunks.append(chunk)\n",
        "\n",
        "        return chunks\n",
        "\n",
        "    def process_dataset(self, df: pd.DataFrame) -> pd.DataFrame:\n",
        "        \"\"\"Process entire dataset with chunking\"\"\"\n",
        "        processed_data = []\n",
        "\n",
        "        for idx, row in tqdm(df.iterrows(), total=len(df)):\n",
        "            clean_context = self.clean_text(row['context'])\n",
        "            chunks = self.chunk_text(clean_context)\n",
        "\n",
        "            for chunk_idx, chunk in enumerate(chunks):\n",
        "                processed_data.append({\n",
        "                    'original_id': idx,\n",
        "                    'chunk_id': f\"{idx}_{chunk_idx}\",\n",
        "                    'question': row['question'],\n",
        "                    'chunk_text': chunk,\n",
        "                    'answer': row['answer']\n",
        "                })\n",
        "\n",
        "        return pd.DataFrame(processed_data)\n",
        "\n",
        "# Test chunking\n",
        "chunker = TextChunker(chunk_size=256, overlap=25)\n",
        "\n",
        "# Process test dataset\n",
        "test_df = utils.load_from_drive(\"data/raw/test_dataset.csv\")\n",
        "processed_test = chunker.process_dataset(test_df)\n",
        "utils.save_to_drive(processed_test, \"data/processed/test_chunks.csv\")\n",
        "\n",
        "print(f\"✅ Processed test dataset: {len(processed_test)} chunks from {len(test_df)} documents\")\n"
      ],
      "metadata": {
        "colab": {
          "base_uri": "https://localhost:8080/"
        },
        "id": "QjY9uD9wruug",
        "outputId": "5b32d957-4519-4f1a-e3d9-25e8f4ceaec6"
      },
      "execution_count": null,
      "outputs": [
        {
          "output_type": "stream",
          "name": "stderr",
          "text": [
            "100%|██████████| 8/8 [00:00<00:00, 5129.08it/s]"
          ]
        },
        {
          "output_type": "stream",
          "name": "stdout",
          "text": [
            "✅ Saved to: /content/drive/MyDrive/RAG_Research/data/processed/test_chunks.csv\n",
            "✅ Processed test dataset: 8 chunks from 8 documents\n"
          ]
        },
        {
          "output_type": "stream",
          "name": "stderr",
          "text": [
            "\n"
          ]
        }
      ]
    },
    {
      "cell_type": "code",
      "source": [
        "from google.colab import drive\n",
        "drive.mount('/content/drive')"
      ],
      "metadata": {
        "colab": {
          "base_uri": "https://localhost:8080/"
        },
        "id": "5jF7djkGsd19",
        "outputId": "4f5b1378-3053-478e-c78d-caa55ed8556c"
      },
      "execution_count": null,
      "outputs": [
        {
          "output_type": "stream",
          "name": "stdout",
          "text": [
            "Drive already mounted at /content/drive; to attempt to forcibly remount, call drive.mount(\"/content/drive\", force_remount=True).\n"
          ]
        }
      ]
    },
    {
      "cell_type": "markdown",
      "source": [
        " CELL 4: Process All Datasets"
      ],
      "metadata": {
        "id": "ibGP4uwhsIHa"
      }
    },
    {
      "cell_type": "code",
      "source": [
        "# Process SQuAD (if available)\n",
        "try:\n",
        "    squad_df = utils.load_from_drive(\"data/raw/squad.csv\")\n",
        "    if squad_df is not None:\n",
        "        print(\"Processing SQuAD dataset...\")\n",
        "        processed_squad = chunker.process_dataset(squad_df.head(200))  # Limit for memory\n",
        "        utils.save_to_drive(processed_squad, \"data/processed/squad_chunks.csv\")\n",
        "        print(f\"✅ Processed SQuAD: {len(processed_squad)} chunks\")\n",
        "    else:\n",
        "        print(\"⚠️ SQuAD dataset not found, skipping...\")\n",
        "except Exception as e:\n",
        "    print(f\"❌ Error processing SQuAD: {e}\")\n",
        "\n",
        "# Clear memory\n",
        "utils.clear_gpu_memory()\n",
        "\n",
        "print(\"\\n🎉 Data preparation complete!\")\n",
        "print(\"📁 Available datasets:\")\n",
        "print(\"   - test_chunks.csv (small test set)\")\n",
        "print(\"   - squad_chunks.csv (if processed)\")"
      ],
      "metadata": {
        "colab": {
          "base_uri": "https://localhost:8080/"
        },
        "id": "NIB1-VWtsIVd",
        "outputId": "85569f94-cc50-43d1-abc2-a2f780eab164"
      },
      "execution_count": null,
      "outputs": [
        {
          "output_type": "stream",
          "name": "stdout",
          "text": [
            "Processing SQuAD dataset...\n"
          ]
        },
        {
          "output_type": "stream",
          "name": "stderr",
          "text": [
            "100%|██████████| 200/200 [00:00<00:00, 4498.11it/s]"
          ]
        },
        {
          "output_type": "stream",
          "name": "stdout",
          "text": [
            "✅ Saved to: /content/drive/MyDrive/RAG_Research/data/processed/squad_chunks.csv\n",
            "✅ Processed SQuAD: 215 chunks\n",
            "\n",
            "🎉 Data preparation complete!\n",
            "📁 Available datasets:\n",
            "   - test_chunks.csv (small test set)\n",
            "   - squad_chunks.csv (if processed)\n"
          ]
        },
        {
          "output_type": "stream",
          "name": "stderr",
          "text": [
            "\n"
          ]
        }
      ]
    }
  ]
}